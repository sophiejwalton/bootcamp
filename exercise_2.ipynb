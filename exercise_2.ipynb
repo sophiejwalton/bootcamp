{
 "cells": [
  {
   "cell_type": "markdown",
   "metadata": {},
   "source": [
    "## Exercise 2.1 Using String Methods\n",
    "\n",
    "\n",
    "**Part A** Write a function to compute reverse complement of a sequence but does not use built in reversed function "
   ]
  },
  {
   "cell_type": "code",
   "execution_count": 16,
   "metadata": {},
   "outputs": [],
   "source": [
    "## from bootcamp lesson 7 \n",
    "def complement_base(base, material='DNA'):\n",
    "    \"\"\"Returns the Watson-Crick complement of a base.\"\"\"\n",
    "    if base in 'Aa':\n",
    "        if material == 'DNA':\n",
    "            return 'T'\n",
    "        elif material == 'RNA':\n",
    "            return 'U'\n",
    "    elif base in 'TtUu':\n",
    "        return 'A'\n",
    "    elif base in 'Gg':\n",
    "        return 'C'\n",
    "    else:\n",
    "        return 'G'\n",
    "\n",
    "def reverse_complement(seq, material='DNA'):\n",
    "    \"\"\"Compute reverse complement of a sequence.\"\"\"\n",
    "    # Initialize reverse complement\n",
    "    rev_seq = ''\n",
    "\n",
    "    # Loop through and populate list with reverse complement\n",
    "    for base in reversed(seq):\n",
    "        \n",
    "        rev_seq += complement_base(base, material=material)\n",
    "\n",
    "    return rev_seq\n",
    "\n",
    "def display_complements(seq, rev_comp):\n",
    "    \"\"\"Print sequence above its reverse complement.\"\"\"\n",
    "    # Compute the reverse complement\n",
    "\n",
    "\n",
    "    # Print template\n",
    "    print(seq)\n",
    "\n",
    "    # Print \"base pairs\"\n",
    "    for base in seq:\n",
    "        print('|', end='')\n",
    "\n",
    "    # Print final newline character after base pairs\n",
    "    print()\n",
    "\n",
    "    # Print reverse complement\n",
    "    for base in reversed(rev_comp):\n",
    "        print(base, end='')\n",
    "\n",
    "    # Print final newline character\n",
    "    print()\n",
    "    \n",
    "def reverse_complementA(seq, material = 'DNA'):\n",
    "    '''Computes reverse complement of sequence without \n",
    "    using reversed method'''\n",
    "    rev_seq = ''\n",
    "    for j in range(1, len(seq) + 1):\n",
    "        \n",
    "        rev_seq += complement_base(seq[-j], material = material)\n",
    "    return rev_seq"
   ]
  },
  {
   "cell_type": "code",
   "execution_count": 18,
   "metadata": {},
   "outputs": [
    {
     "name": "stdout",
     "output_type": "stream",
     "text": [
      "GCAGTTGCA\n",
      "|||||||||\n",
      "CGTCAACGT\n"
     ]
    }
   ],
   "source": [
    "seq = 'GCAGTTGCA'\n",
    "rev_comp = reverse_complement(seq, material = 'DNA')\n",
    "\n",
    "rev_comp = reverse_complementA(seq, material = 'DNA')\n",
    "display_complements(seq, rev_comp)"
   ]
  },
  {
   "cell_type": "markdown",
   "metadata": {},
   "source": [
    "**Part B** Write the function one more time but without any loops"
   ]
  },
  {
   "cell_type": "code",
   "execution_count": 40,
   "metadata": {},
   "outputs": [],
   "source": [
    "def reverse_complementB(seq, material = 'DNA'):\n",
    "    '''Computes reverse complement of sequence without \n",
    "    any loops'''\n",
    "    # capitilize all things \n",
    "    seq = seq.upper()\n",
    "\n",
    "    \n",
    "    \n",
    "    # replace capital base with lower case complement base \n",
    "    if material == 'DNA':\n",
    "        seq = seq.replace('T', 'a')\n",
    "        seq = seq.replace('A', 't')\n",
    "    elif material == 'RNA':\n",
    "        seq = seq.replace('U', 'a')\n",
    "        seq = seq.replace('A', 'u')\n",
    "    else:\n",
    "        return \"invalid material- only DNA and RNA allowed\"\n",
    "    seq = seq.replace('C', 'g')\n",
    "    seq = seq.replace('G', 'c')\n",
    "    \n",
    "    # convert lower case to capital \n",
    "\n",
    "    seq = seq.upper()\n",
    "    \n",
    "    # reverse_sequence \n",
    "    rev_seq = seq[::-1]\n",
    "    \n",
    "    return rev_seq"
   ]
  },
  {
   "cell_type": "code",
   "execution_count": 41,
   "metadata": {},
   "outputs": [],
   "source": [
    "rev_seq = reverse_complementB(seq)"
   ]
  },
  {
   "cell_type": "code",
   "execution_count": 42,
   "metadata": {},
   "outputs": [
    {
     "name": "stdout",
     "output_type": "stream",
     "text": [
      "GCAGTTGCA\n",
      "|||||||||\n",
      "CGTCAACGT\n"
     ]
    }
   ],
   "source": [
    "display_complements(seq, rev_seq)"
   ]
  },
  {
   "cell_type": "markdown",
   "metadata": {},
   "source": [
    "## Exercise 2.2"
   ]
  },
  {
   "cell_type": "code",
   "execution_count": null,
   "metadata": {},
   "outputs": [],
   "source": []
  }
 ],
 "metadata": {
  "kernelspec": {
   "display_name": "Python 3",
   "language": "python",
   "name": "python3"
  },
  "language_info": {
   "codemirror_mode": {
    "name": "ipython",
    "version": 3
   },
   "file_extension": ".py",
   "mimetype": "text/x-python",
   "name": "python",
   "nbconvert_exporter": "python",
   "pygments_lexer": "ipython3",
   "version": "3.7.5"
  }
 },
 "nbformat": 4,
 "nbformat_minor": 4
}
